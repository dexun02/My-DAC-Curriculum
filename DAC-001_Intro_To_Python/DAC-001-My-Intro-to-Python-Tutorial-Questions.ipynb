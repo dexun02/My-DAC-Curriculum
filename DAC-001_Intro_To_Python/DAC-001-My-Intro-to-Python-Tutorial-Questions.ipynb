{
 "cells": [
  {
   "cell_type": "markdown",
   "metadata": {},
   "source": [
    "Question 1: Lists\n",
    "Task:\n",
    "(a) Create a list named fruits with the items \"apple\", \"orange\", and \"banana\"."
   ]
  },
  {
   "cell_type": "code",
   "execution_count": 20,
   "metadata": {},
   "outputs": [
    {
     "name": "stdout",
     "output_type": "stream",
     "text": [
      "['apple', 'orange', 'banana']\n"
     ]
    }
   ],
   "source": [
    "fruit = [\"apple\",\"orange\", \"banana\"]\n",
    "print(fruit)"
   ]
  },
  {
   "cell_type": "markdown",
   "metadata": {},
   "source": [
    "(b) Add \"tomato\" to the end of the fruits list.\n"
   ]
  },
  {
   "cell_type": "code",
   "execution_count": 21,
   "metadata": {},
   "outputs": [
    {
     "name": "stdout",
     "output_type": "stream",
     "text": [
      "['apple', 'orange', 'banana', 'tomato']\n"
     ]
    }
   ],
   "source": [
    "fruit.insert(3,\"tomato\")\n",
    "print(fruit)\n"
   ]
  },
  {
   "cell_type": "markdown",
   "metadata": {},
   "source": [
    "(c) Remove \"apple\" from the fruits list.\n"
   ]
  },
  {
   "cell_type": "code",
   "execution_count": 22,
   "metadata": {},
   "outputs": [
    {
     "name": "stdout",
     "output_type": "stream",
     "text": [
      "['orange', 'banana', 'tomato']\n"
     ]
    }
   ],
   "source": [
    "fruit.remove(\"apple\")\n",
    "print(fruit)"
   ]
  },
  {
   "cell_type": "markdown",
   "metadata": {},
   "source": [
    "Question 2: Tuples\n",
    "Task:\n",
    "(a) Create a tuple named subjects with the following elements: \"physics\", \"chemistry\", \"english\", \"math\", and \"biology\"."
   ]
  },
  {
   "cell_type": "code",
   "execution_count": 23,
   "metadata": {},
   "outputs": [
    {
     "name": "stdout",
     "output_type": "stream",
     "text": [
      "('physics', 'chemistry', 'english', 'math', 'biology')\n"
     ]
    },
    {
     "data": {
      "text/plain": [
       "tuple"
      ]
     },
     "execution_count": 23,
     "metadata": {},
     "output_type": "execute_result"
    }
   ],
   "source": [
    "subjects = (\"physics\", \"chemistry\", \"english\", \"math\", \"biology\")\n",
    "print(subjects)\n",
    "type(subjects)"
   ]
  },
  {
   "cell_type": "markdown",
   "metadata": {},
   "source": [
    "(b) Attempt to append \"literature\" to the tuple and observe the result. Suggest an alternative way to add an element to a tuple.\n"
   ]
  },
  {
   "cell_type": "code",
   "execution_count": 24,
   "metadata": {},
   "outputs": [
    {
     "ename": "AttributeError",
     "evalue": "'tuple' object has no attribute 'append'",
     "output_type": "error",
     "traceback": [
      "\u001b[1;31m---------------------------------------------------------------------------\u001b[0m",
      "\u001b[1;31mAttributeError\u001b[0m                            Traceback (most recent call last)",
      "Cell \u001b[1;32mIn[24], line 1\u001b[0m\n\u001b[1;32m----> 1\u001b[0m \u001b[43msubjects\u001b[49m\u001b[38;5;241;43m.\u001b[39;49m\u001b[43mappend\u001b[49m(\u001b[38;5;124m\"\u001b[39m\u001b[38;5;124mliterature\u001b[39m\u001b[38;5;124m\"\u001b[39m)\n",
      "\u001b[1;31mAttributeError\u001b[0m: 'tuple' object has no attribute 'append'"
     ]
    }
   ],
   "source": [
    "subjects.append(\"literature\")\n"
   ]
  },
  {
   "cell_type": "markdown",
   "metadata": {},
   "source": [
    "Before appending, convert tuple to a list first then add append the element to it."
   ]
  },
  {
   "cell_type": "code",
   "execution_count": 27,
   "metadata": {},
   "outputs": [
    {
     "name": "stdout",
     "output_type": "stream",
     "text": [
      "['physics', 'chemistry', 'english', 'math', 'biology', 'literature']\n"
     ]
    }
   ],
   "source": [
    "subjects_list = list(subjects)\n",
    "subjects_list.append(\"literature\")\n",
    "print(subjects_list)"
   ]
  },
  {
   "cell_type": "markdown",
   "metadata": {},
   "source": [
    "(c) Count the number of elements in the subjects tuple.\n"
   ]
  },
  {
   "cell_type": "code",
   "execution_count": 28,
   "metadata": {},
   "outputs": [
    {
     "name": "stdout",
     "output_type": "stream",
     "text": [
      "6\n"
     ]
    }
   ],
   "source": [
    "print(len(subjects_list))"
   ]
  },
  {
   "cell_type": "markdown",
   "metadata": {},
   "source": [
    "Question 3: Sorting Lists\n",
    "Task:\n",
    "(a) Create a list named students_id with the values [10, 6, 7, 8, 9, 3]."
   ]
  },
  {
   "cell_type": "code",
   "execution_count": 2,
   "metadata": {},
   "outputs": [
    {
     "name": "stdout",
     "output_type": "stream",
     "text": [
      "[10, 6, 7, 8, 9, 3]\n"
     ]
    }
   ],
   "source": [
    "students_id = [10,6,7,8,9,3]\n",
    "print(students_id)"
   ]
  },
  {
   "cell_type": "markdown",
   "metadata": {},
   "source": [
    "(b) Sort the list in descending order and reinitialize it as sorted_students_id.\n"
   ]
  },
  {
   "cell_type": "code",
   "execution_count": 21,
   "metadata": {},
   "outputs": [
    {
     "name": "stdout",
     "output_type": "stream",
     "text": [
      "[10, 9, 8, 7, 6, 3]\n"
     ]
    }
   ],
   "source": [
    "students_id = [10,6,7,8,9,3]\n",
    "sorted_students_id = sorted(students_id)\n",
    "sorted_students_id.reverse()\n",
    "print(sorted_students_id)"
   ]
  },
  {
   "cell_type": "markdown",
   "metadata": {},
   "source": [
    "(c) Remove all elements from the sorted_students_id list."
   ]
  },
  {
   "cell_type": "code",
   "execution_count": 23,
   "metadata": {},
   "outputs": [
    {
     "name": "stdout",
     "output_type": "stream",
     "text": [
      "[]\n"
     ]
    }
   ],
   "source": [
    "sorted_students_id.clear()\n",
    "print(sorted_students_id)"
   ]
  },
  {
   "cell_type": "markdown",
   "metadata": {},
   "source": [
    "Question 4: Generating Lists\n",
    "\n",
    "Task:\n",
    "\n",
    "Generate a list of numbers starting from 15 and decreasing by 3 each step, until the number is positive (not inclusive of zero). Store it in a variable named desc_list."
   ]
  },
  {
   "cell_type": "code",
   "execution_count": 28,
   "metadata": {},
   "outputs": [
    {
     "name": "stdout",
     "output_type": "stream",
     "text": [
      "[15, 12, 9, 6, 3]\n"
     ]
    }
   ],
   "source": [
    "desc_list = list(range(15, 0, -3))\n",
    "print(desc_list)"
   ]
  },
  {
   "cell_type": "markdown",
   "metadata": {},
   "source": [
    "Question 5: Generating Lists\n",
    "\n",
    "Task:\n",
    "\n",
    "Generate a list of numbers starting from 2, increasing by 2 each step, until the list contains 14 elements. Store it in a variable named asc_list."
   ]
  },
  {
   "cell_type": "code",
   "execution_count": 31,
   "metadata": {},
   "outputs": [
    {
     "name": "stdout",
     "output_type": "stream",
     "text": [
      "[2, 4, 6, 8, 10, 12, 14, 16, 18, 20, 22, 24, 26, 28]\n"
     ]
    }
   ],
   "source": [
    "asc_list = [2 * i for i in range(1, 15)]\n",
    "print(asc_list)\n"
   ]
  },
  {
   "cell_type": "markdown",
   "metadata": {},
   "source": [
    "Question 6: Combining and Separating Lists\n",
    "\n",
    "Task:\n",
    "\n",
    "Combine the lists generated in Questions 4 and 5 into a single list named combined_list.\n",
    "Separate the even and odd numbers from combined_list into two separate lists: even_numbers and odd_numbers."
   ]
  },
  {
   "cell_type": "code",
   "execution_count": 36,
   "metadata": {},
   "outputs": [
    {
     "name": "stdout",
     "output_type": "stream",
     "text": [
      "[2, 4, 6, 6, 8, 10, 12, 12, 14, 16, 18, 20, 22, 24, 26, 28]\n",
      "[3, 9, 15]\n"
     ]
    }
   ],
   "source": [
    "combined_list = asc_list + desc_list\n",
    "even_number = [item for item in combined_list if item % 2 == 0]\n",
    "odd_number = [item for item in combined_list if item % 2 != 0]\n",
    "print(sorted(even_number))\n",
    "print(sorted(odd_number))\n"
   ]
  },
  {
   "cell_type": "markdown",
   "metadata": {},
   "source": [
    "Question 7: Functions\n",
    "\n",
    "Task:\n",
    "\n",
    "Create a function circle_properties(radius) that takes in the radius of a circle and returns both the area and circumference."
   ]
  },
  {
   "cell_type": "code",
   "execution_count": 42,
   "metadata": {},
   "outputs": [
    {
     "name": "stdout",
     "output_type": "stream",
     "text": [
      "(50.24, 25.12)\n"
     ]
    }
   ],
   "source": [
    "def circle_properties(radius):\n",
    "    area = 3.14 * radius**2\n",
    "    circumference = 3.14 * 2 * radius\n",
    "    return area , circumference\n",
    "\n",
    "area_circumference = circle_properties(4)\n",
    "print(area_circumference)"
   ]
  },
  {
   "cell_type": "markdown",
   "metadata": {},
   "source": [
    "Question 8: Custom Function\n",
    "\n",
    "Task:\n",
    "\n",
    "Define a function that performs a task you find interesting. Demonstrate how this function works."
   ]
  },
  {
   "cell_type": "code",
   "execution_count": 57,
   "metadata": {},
   "outputs": [
    {
     "name": "stdout",
     "output_type": "stream",
     "text": [
      "Question: Should i eat chicken rice tmr?\n",
      "Magic 8-Ball says: Without a doubt\n"
     ]
    }
   ],
   "source": [
    "import random  \n",
    "\n",
    "def magic_8_ball():\n",
    "    responses = [\n",
    "        \"Yes\", \"No\", \"It is certain\", \"Without a doubt\",\n",
    "        \"Reply hazy, try again\", \"Don't count on it\",\n",
    "        \"My sources say no\", \"Outlook not so good\", \"Very doubtful\",\n",
    "        \"You may rely on it\"\n",
    "    ]\n",
    "    return random.choice(responses)\n",
    "\n",
    "question = \"Should i eat chicken rice tmr?\"  \n",
    "answer = magic_8_ball()  \n",
    "print(f\"Question: {question}\")  \n",
    "print(f\"Magic 8-Ball says: {answer}\")  \n"
   ]
  },
  {
   "cell_type": "markdown",
   "metadata": {},
   "source": [
    "Question 9: Creating and Manipulating Dictionaries\n",
    "\n",
    "Task:\n",
    "\n",
    "(a) Create a dictionary named student_grades with the following keys and values: \"Alice\": 85, \"Bob\": 90, and \"Charlie\": 78."
   ]
  },
  {
   "cell_type": "code",
   "execution_count": 47,
   "metadata": {},
   "outputs": [
    {
     "name": "stdout",
     "output_type": "stream",
     "text": [
      "{'Alice': 85, 'Bob': 90, 'Charlie': 78}\n"
     ]
    }
   ],
   "source": [
    "student_grades = {\n",
    "    \"Alice\": 85 ,\n",
    "    \"Bob\" : 90 ,\n",
    "    \"Charlie\": 78\n",
    "}\n",
    "\n",
    "print(student_grades)"
   ]
  },
  {
   "cell_type": "markdown",
   "metadata": {},
   "source": [
    "(b) Add a new student, \"David\", with a grade of 92 to the student_grades dictionary.\n"
   ]
  },
  {
   "cell_type": "code",
   "execution_count": 48,
   "metadata": {},
   "outputs": [
    {
     "name": "stdout",
     "output_type": "stream",
     "text": [
      "{'Alice': 85, 'Bob': 90, 'Charlie': 78, 'David': 92}\n"
     ]
    }
   ],
   "source": [
    "student_grades[\"David\"] = 92\n",
    "print(student_grades)"
   ]
  },
  {
   "cell_type": "markdown",
   "metadata": {},
   "source": [
    "(c) Update \"Alice\"'s grade to 88"
   ]
  },
  {
   "cell_type": "code",
   "execution_count": 50,
   "metadata": {},
   "outputs": [
    {
     "name": "stdout",
     "output_type": "stream",
     "text": [
      "{'Alice': 88, 'Bob': 90, 'Charlie': 78, 'David': 92}\n"
     ]
    }
   ],
   "source": [
    "student_grades[\"Alice\"] = 88\n",
    "print(student_grades)"
   ]
  },
  {
   "cell_type": "markdown",
   "metadata": {},
   "source": [
    "Question 10: Using Dictionaries to Count Occurrences\n",
    "\n",
    "Task:\n",
    "\n",
    "Given the list of fruits [\"apple\", \"banana\", \"apple\", \"orange\", \"banana\", \"apple\"], create a dictionary named fruit_count that counts the number of times each fruit appears in the list."
   ]
  },
  {
   "cell_type": "code",
   "execution_count": 51,
   "metadata": {},
   "outputs": [
    {
     "name": "stdout",
     "output_type": "stream",
     "text": [
      "{'apple': 3, 'banana': 2, 'orange': 1}\n"
     ]
    }
   ],
   "source": [
    "fruits = [\"apple\", \"banana\", \"apple\", \"orange\", \"banana\", \"apple\"]\n",
    "fruit_count = {\n",
    "    \"apple\" : 3 , \n",
    "    \"banana\" : 2 , \n",
    "    \"orange\" : 1 \n",
    "}\n",
    "print(fruit_count)"
   ]
  },
  {
   "cell_type": "code",
   "execution_count": null,
   "metadata": {},
   "outputs": [],
   "source": []
  }
 ],
 "metadata": {
  "kernelspec": {
   "display_name": "Python 3",
   "language": "python",
   "name": "python3"
  },
  "language_info": {
   "codemirror_mode": {
    "name": "ipython",
    "version": 3
   },
   "file_extension": ".py",
   "mimetype": "text/x-python",
   "name": "python",
   "nbconvert_exporter": "python",
   "pygments_lexer": "ipython3",
   "version": "3.12.3"
  }
 },
 "nbformat": 4,
 "nbformat_minor": 2
}
